{
 "cells": [
  {
   "cell_type": "code",
   "execution_count": 1,
   "metadata": {},
   "outputs": [],
   "source": [
    "import os\n",
    "import pandas as pd\n",
    "import numpy as np\n",
    "import tensorflow as tf\n",
    "from tensorflow.keras.preprocessing.image import load_img, img_to_array\n",
    "from sklearn.model_selection import train_test_split\n",
    "from sklearn.preprocessing import LabelEncoder\n"
   ]
  },
  {
   "cell_type": "code",
   "execution_count": 2,
   "metadata": {},
   "outputs": [
    {
     "name": "stdout",
     "output_type": "stream",
     "text": [
      "[nan 'up+' 'up+right+' 'up+left+' 'right+' 'left+' 'down+' 'down+left+'\n",
      " 'down+right+']\n",
      "['no_action' 'up+' 'up+right+' 'up+left+' 'right+' 'left+' 'down+'\n",
      " 'down+left+' 'down+right+']\n"
     ]
    }
   ],
   "source": [
    "# Load the CSV file\n",
    "data = pd.read_csv('index.csv')\n",
    "\n",
    "\n",
    "# print unique values for action\n",
    "print(data['action'].unique())\n",
    "\n",
    "# replace nan values with 'no_action'\n",
    "data['action'] = data['action'].fillna('no_action')\n",
    "\n",
    "# print unique values for action\n",
    "print(data['action'].unique())"
   ]
  },
  {
   "cell_type": "code",
   "execution_count": 3,
   "metadata": {},
   "outputs": [],
   "source": [
    "\n",
    "\n",
    "# Perform one-hot encoding on the 'action' column\n",
    "label_encoder = LabelEncoder()\n",
    "one_hot_labels = pd.get_dummies(label_encoder.fit_transform(data['action']))\n",
    "\n"
   ]
  },
  {
   "cell_type": "code",
   "execution_count": 4,
   "metadata": {},
   "outputs": [
    {
     "name": "stdout",
     "output_type": "stream",
     "text": [
      "Epoch 1/11\n",
      "102/102 [==============================] - 8s 34ms/step - loss: 1.4272 - accuracy: 0.5640 - val_loss: 1.3206 - val_accuracy: 0.5828\n",
      "Epoch 2/11\n",
      "102/102 [==============================] - 3s 28ms/step - loss: 1.3255 - accuracy: 0.5702 - val_loss: 1.2714 - val_accuracy: 0.5840\n",
      "Epoch 3/11\n",
      "102/102 [==============================] - 3s 28ms/step - loss: 1.2211 - accuracy: 0.5735 - val_loss: 1.2043 - val_accuracy: 0.5595\n",
      "Epoch 4/11\n",
      "102/102 [==============================] - 3s 27ms/step - loss: 1.1119 - accuracy: 0.5901 - val_loss: 1.1043 - val_accuracy: 0.5975\n",
      "Epoch 5/11\n",
      "102/102 [==============================] - 3s 27ms/step - loss: 1.0084 - accuracy: 0.6187 - val_loss: 1.0582 - val_accuracy: 0.6000\n",
      "Epoch 6/11\n",
      "102/102 [==============================] - 3s 28ms/step - loss: 0.9099 - accuracy: 0.6448 - val_loss: 1.0500 - val_accuracy: 0.5804\n",
      "Epoch 7/11\n",
      "102/102 [==============================] - 3s 27ms/step - loss: 0.7977 - accuracy: 0.6917 - val_loss: 1.0892 - val_accuracy: 0.6025\n",
      "Epoch 8/11\n",
      "102/102 [==============================] - 3s 28ms/step - loss: 0.6881 - accuracy: 0.7360 - val_loss: 1.1195 - val_accuracy: 0.5975\n",
      "Epoch 9/11\n",
      "102/102 [==============================] - 3s 27ms/step - loss: 0.5835 - accuracy: 0.7753 - val_loss: 1.2248 - val_accuracy: 0.5681\n",
      "Epoch 10/11\n",
      "102/102 [==============================] - 3s 27ms/step - loss: 0.4449 - accuracy: 0.8225 - val_loss: 1.2929 - val_accuracy: 0.5963\n",
      "Epoch 11/11\n",
      "102/102 [==============================] - 3s 28ms/step - loss: 0.3324 - accuracy: 0.8744 - val_loss: 1.6396 - val_accuracy: 0.5607\n",
      "26/26 [==============================] - 0s 9ms/step - loss: 1.6396 - accuracy: 0.5607\n",
      "Validation Accuracy: 56.07%\n"
     ]
    }
   ],
   "source": [
    "\n",
    "\n",
    "# Load images and corresponding labels\n",
    "images = []\n",
    "labels = []\n",
    "\n",
    "for idx, row in data.iterrows():\n",
    "    img_path = os.path.join('images/_processed', row['image_name'])\n",
    "    img = load_img(img_path)  # Resize images to 256x144\n",
    "    img_array = img_to_array(img) / 255.0\n",
    "    images.append(img_array)\n",
    "    labels.append(one_hot_labels.iloc[idx].values)\n",
    "\n",
    "# Convert lists to numpy arrays\n",
    "X = np.array(images)\n",
    "y = np.array(labels)\n",
    "\n",
    "# Split data into training and validation sets\n",
    "X_train, X_val, y_train, y_val = train_test_split(X, y, test_size=0.2, random_state=42)\n",
    "\n",
    "# Build the CNN model\n",
    "model = tf.keras.models.Sequential([\n",
    "    tf.keras.layers.Conv2D(32, (3, 3), activation='relu', input_shape=(144, 256, 3)),\n",
    "    tf.keras.layers.MaxPooling2D((2, 2)),\n",
    "    tf.keras.layers.Conv2D(64, (3, 3), activation='relu'),\n",
    "    tf.keras.layers.MaxPooling2D((2, 2)),\n",
    "    tf.keras.layers.Conv2D(128, (3, 3), activation='relu'),\n",
    "    tf.keras.layers.MaxPooling2D((2, 2)),\n",
    "    tf.keras.layers.Flatten(),\n",
    "    tf.keras.layers.Dense(128, activation='relu'),\n",
    "    tf.keras.layers.Dense(one_hot_labels.shape[1], activation='softmax')\n",
    "])\n",
    "\n",
    "# Compile the model\n",
    "model.compile(optimizer='adam', loss='categorical_crossentropy', metrics=['accuracy'])\n",
    "\n",
    "# Train the model\n",
    "history = model.fit(X_train, y_train, epochs=11, validation_data=(X_val, y_val))\n",
    "\n",
    "# Save the model\n",
    "model.save('car_driving_model.h5')\n",
    "\n",
    "# Evaluate the model\n",
    "val_loss, val_accuracy = model.evaluate(X_val, y_val)\n",
    "print(f'Validation Accuracy: {val_accuracy * 100:.2f}%')\n"
   ]
  },
  {
   "cell_type": "code",
   "execution_count": 5,
   "metadata": {},
   "outputs": [
    {
     "name": "stdout",
     "output_type": "stream",
     "text": [
      "26/26 [==============================] - 0s 9ms/step - loss: 1.6396 - accuracy: 0.5607\n",
      "Validation Accuracy: 56.07%\n",
      "Validation Loss: 1.6396\n"
     ]
    }
   ],
   "source": [
    "# Evaluate the model\n",
    "val_loss, val_accuracy = model.evaluate(X_val, y_val)\n",
    "print(f'Validation Accuracy: {val_accuracy * 100:.2f}%')\n",
    "print(f'Validation Loss: {val_loss:.4f}')"
   ]
  },
  {
   "cell_type": "code",
   "execution_count": 4,
   "metadata": {},
   "outputs": [
    {
     "name": "stdout",
     "output_type": "stream",
     "text": [
      "[nan 'up+right+' 'up+' 'up+left+' 'down+right+' 'right+' 'left+'\n",
      " 'down+left+' 'down+']\n",
      "['no_action' 'up+right+' 'up+' 'up+left+' 'down+right+' 'right+' 'left+'\n",
      " 'down+left+' 'down+']\n"
     ]
    }
   ],
   "source": [
    "# Load the CSV file\n",
    "data = pd.read_csv('2024-05-28_22-47-47.csv')\n",
    "\n",
    "\n",
    "# print unique values for action\n",
    "print(data['action'].unique())\n",
    "\n",
    "# replace nan values with 'no_action'\n",
    "data['action'] = data['action'].fillna('no_action')\n",
    "\n",
    "# print unique values for action\n",
    "print(data['action'].unique())\n",
    "\n",
    "# label_encoder = LabelEncoder()\n",
    "one_hot_labels = pd.get_dummies(label_encoder.fit_transform(data['action']))\n",
    "\n",
    "images = []\n",
    "labels = []\n",
    "\n",
    "for idx, row in data.iterrows():\n",
    "    img_path = os.path.join('2024-05-28_22-47-47/_processed', row['image_name'])\n",
    "    img = load_img(img_path)  # Resize images to 256x144\n",
    "    img_array = img_to_array(img) / 255.0\n",
    "    images.append(img_array)\n",
    "    labels.append(one_hot_labels.iloc[idx].values)\n",
    "\n",
    "# Convert lists to numpy arrays\n",
    "X = np.array(images)\n",
    "y = np.array(labels)"
   ]
  },
  {
   "cell_type": "code",
   "execution_count": 5,
   "metadata": {},
   "outputs": [
    {
     "name": "stdout",
     "output_type": "stream",
     "text": [
      "['down+' 'down+left+' 'down+right+' 'left+' 'no_action' 'right+' 'up+'\n",
      " 'up+left+' 'up+right+']\n"
     ]
    }
   ],
   "source": [
    "# print the label encoder classes\n",
    "print(label_encoder.classes_)\n",
    "# save the label encoder classes\n",
    "# np.save('classes.npy', label_encoder.classes_)\n"
   ]
  },
  {
   "cell_type": "code",
   "execution_count": 6,
   "metadata": {},
   "outputs": [
    {
     "name": "stdout",
     "output_type": "stream",
     "text": [
      "392/392 [==============================] - 8s 11ms/step - loss: 0.8774 - accuracy: 0.6758\n"
     ]
    },
    {
     "data": {
      "text/plain": [
       "[0.8774076104164124, 0.6758136749267578]"
      ]
     },
     "execution_count": 6,
     "metadata": {},
     "output_type": "execute_result"
    }
   ],
   "source": [
    "model.evaluate(X, y)"
   ]
  },
  {
   "cell_type": "code",
   "execution_count": 20,
   "metadata": {},
   "outputs": [
    {
     "ename": "InternalError",
     "evalue": "Failed copying input tensor from /job:localhost/replica:0/task:0/device:CPU:0 to /job:localhost/replica:0/task:0/device:GPU:0 in order to run _EagerConst: Dst tensor is not initialized.",
     "output_type": "error",
     "traceback": [
      "\u001b[1;31m---------------------------------------------------------------------------\u001b[0m",
      "\u001b[1;31mInternalError\u001b[0m                             Traceback (most recent call last)",
      "Cell \u001b[1;32mIn[20], line 8\u001b[0m\n\u001b[0;32m      1\u001b[0m \u001b[38;5;66;03m# # Recreate the optimizer\u001b[39;00m\n\u001b[0;32m      2\u001b[0m \u001b[38;5;66;03m# optimizer = tf.keras.optimizers.Adam()\u001b[39;00m\n\u001b[0;32m      3\u001b[0m \n\u001b[1;32m   (...)\u001b[0m\n\u001b[0;32m      6\u001b[0m \n\u001b[0;32m      7\u001b[0m \u001b[38;5;66;03m# Retrain the model with test data\u001b[39;00m\n\u001b[1;32m----> 8\u001b[0m \u001b[43mmodel\u001b[49m\u001b[38;5;241;43m.\u001b[39;49m\u001b[43mfit\u001b[49m\u001b[43m(\u001b[49m\u001b[43mX\u001b[49m\u001b[43m,\u001b[49m\u001b[43m \u001b[49m\u001b[43my\u001b[49m\u001b[43m,\u001b[49m\u001b[43m \u001b[49m\u001b[43mepochs\u001b[49m\u001b[38;5;241;43m=\u001b[39;49m\u001b[38;5;241;43m2\u001b[39;49m\u001b[43m)\u001b[49m\n",
      "File \u001b[1;32mc:\\Users\\windy\\anaconda3\\envs\\newSelfDriving\\lib\\site-packages\\keras\\utils\\traceback_utils.py:70\u001b[0m, in \u001b[0;36mfilter_traceback.<locals>.error_handler\u001b[1;34m(*args, **kwargs)\u001b[0m\n\u001b[0;32m     67\u001b[0m     filtered_tb \u001b[38;5;241m=\u001b[39m _process_traceback_frames(e\u001b[38;5;241m.\u001b[39m__traceback__)\n\u001b[0;32m     68\u001b[0m     \u001b[38;5;66;03m# To get the full stack trace, call:\u001b[39;00m\n\u001b[0;32m     69\u001b[0m     \u001b[38;5;66;03m# `tf.debugging.disable_traceback_filtering()`\u001b[39;00m\n\u001b[1;32m---> 70\u001b[0m     \u001b[38;5;28;01mraise\u001b[39;00m e\u001b[38;5;241m.\u001b[39mwith_traceback(filtered_tb) \u001b[38;5;28;01mfrom\u001b[39;00m \u001b[38;5;28;01mNone\u001b[39;00m\n\u001b[0;32m     71\u001b[0m \u001b[38;5;28;01mfinally\u001b[39;00m:\n\u001b[0;32m     72\u001b[0m     \u001b[38;5;28;01mdel\u001b[39;00m filtered_tb\n",
      "File \u001b[1;32mc:\\Users\\windy\\anaconda3\\envs\\newSelfDriving\\lib\\site-packages\\tensorflow\\python\\framework\\constant_op.py:102\u001b[0m, in \u001b[0;36mconvert_to_eager_tensor\u001b[1;34m(value, ctx, dtype)\u001b[0m\n\u001b[0;32m    100\u001b[0m     dtype \u001b[38;5;241m=\u001b[39m dtypes\u001b[38;5;241m.\u001b[39mas_dtype(dtype)\u001b[38;5;241m.\u001b[39mas_datatype_enum\n\u001b[0;32m    101\u001b[0m ctx\u001b[38;5;241m.\u001b[39mensure_initialized()\n\u001b[1;32m--> 102\u001b[0m \u001b[38;5;28;01mreturn\u001b[39;00m \u001b[43mops\u001b[49m\u001b[38;5;241;43m.\u001b[39;49m\u001b[43mEagerTensor\u001b[49m\u001b[43m(\u001b[49m\u001b[43mvalue\u001b[49m\u001b[43m,\u001b[49m\u001b[43m \u001b[49m\u001b[43mctx\u001b[49m\u001b[38;5;241;43m.\u001b[39;49m\u001b[43mdevice_name\u001b[49m\u001b[43m,\u001b[49m\u001b[43m \u001b[49m\u001b[43mdtype\u001b[49m\u001b[43m)\u001b[49m\n",
      "\u001b[1;31mInternalError\u001b[0m: Failed copying input tensor from /job:localhost/replica:0/task:0/device:CPU:0 to /job:localhost/replica:0/task:0/device:GPU:0 in order to run _EagerConst: Dst tensor is not initialized."
     ]
    }
   ],
   "source": [
    "# # Recreate the optimizer\n",
    "# optimizer = tf.keras.optimizers.Adam()\n",
    "\n",
    "# # Compile the model with the new optimizer\n",
    "# model.compile(optimizer=optimizer, loss='categorical_crossentropy', metrics=['accuracy'])\n",
    "\n",
    "# Retrain the model with test data\n",
    "model.fit(X, y, epochs=2)\n"
   ]
  },
  {
   "cell_type": "code",
   "execution_count": 17,
   "metadata": {},
   "outputs": [
    {
     "ename": "InternalError",
     "evalue": "Failed copying input tensor from /job:localhost/replica:0/task:0/device:CPU:0 to /job:localhost/replica:0/task:0/device:GPU:0 in order to run _EagerConst: Dst tensor is not initialized.",
     "output_type": "error",
     "traceback": [
      "\u001b[1;31m---------------------------------------------------------------------------\u001b[0m",
      "\u001b[1;31mInternalError\u001b[0m                             Traceback (most recent call last)",
      "Cell \u001b[1;32mIn[17], line 1\u001b[0m\n\u001b[1;32m----> 1\u001b[0m \u001b[43mmodel\u001b[49m\u001b[38;5;241;43m.\u001b[39;49m\u001b[43mevaluate\u001b[49m\u001b[43m(\u001b[49m\u001b[43mX\u001b[49m\u001b[43m,\u001b[49m\u001b[43m \u001b[49m\u001b[43my\u001b[49m\u001b[43m)\u001b[49m\n",
      "File \u001b[1;32mc:\\Users\\windy\\anaconda3\\envs\\newSelfDriving\\lib\\site-packages\\keras\\utils\\traceback_utils.py:70\u001b[0m, in \u001b[0;36mfilter_traceback.<locals>.error_handler\u001b[1;34m(*args, **kwargs)\u001b[0m\n\u001b[0;32m     67\u001b[0m     filtered_tb \u001b[38;5;241m=\u001b[39m _process_traceback_frames(e\u001b[38;5;241m.\u001b[39m__traceback__)\n\u001b[0;32m     68\u001b[0m     \u001b[38;5;66;03m# To get the full stack trace, call:\u001b[39;00m\n\u001b[0;32m     69\u001b[0m     \u001b[38;5;66;03m# `tf.debugging.disable_traceback_filtering()`\u001b[39;00m\n\u001b[1;32m---> 70\u001b[0m     \u001b[38;5;28;01mraise\u001b[39;00m e\u001b[38;5;241m.\u001b[39mwith_traceback(filtered_tb) \u001b[38;5;28;01mfrom\u001b[39;00m \u001b[38;5;28;01mNone\u001b[39;00m\n\u001b[0;32m     71\u001b[0m \u001b[38;5;28;01mfinally\u001b[39;00m:\n\u001b[0;32m     72\u001b[0m     \u001b[38;5;28;01mdel\u001b[39;00m filtered_tb\n",
      "File \u001b[1;32mc:\\Users\\windy\\anaconda3\\envs\\newSelfDriving\\lib\\site-packages\\tensorflow\\python\\framework\\constant_op.py:102\u001b[0m, in \u001b[0;36mconvert_to_eager_tensor\u001b[1;34m(value, ctx, dtype)\u001b[0m\n\u001b[0;32m    100\u001b[0m     dtype \u001b[38;5;241m=\u001b[39m dtypes\u001b[38;5;241m.\u001b[39mas_dtype(dtype)\u001b[38;5;241m.\u001b[39mas_datatype_enum\n\u001b[0;32m    101\u001b[0m ctx\u001b[38;5;241m.\u001b[39mensure_initialized()\n\u001b[1;32m--> 102\u001b[0m \u001b[38;5;28;01mreturn\u001b[39;00m \u001b[43mops\u001b[49m\u001b[38;5;241;43m.\u001b[39;49m\u001b[43mEagerTensor\u001b[49m\u001b[43m(\u001b[49m\u001b[43mvalue\u001b[49m\u001b[43m,\u001b[49m\u001b[43m \u001b[49m\u001b[43mctx\u001b[49m\u001b[38;5;241;43m.\u001b[39;49m\u001b[43mdevice_name\u001b[49m\u001b[43m,\u001b[49m\u001b[43m \u001b[49m\u001b[43mdtype\u001b[49m\u001b[43m)\u001b[49m\n",
      "\u001b[1;31mInternalError\u001b[0m: Failed copying input tensor from /job:localhost/replica:0/task:0/device:CPU:0 to /job:localhost/replica:0/task:0/device:GPU:0 in order to run _EagerConst: Dst tensor is not initialized."
     ]
    }
   ],
   "source": [
    "model.evaluate(X, y)"
   ]
  },
  {
   "cell_type": "code",
   "execution_count": 13,
   "metadata": {},
   "outputs": [],
   "source": [
    "model.save('car_driving_model.h5')\n"
   ]
  },
  {
   "cell_type": "code",
   "execution_count": 2,
   "metadata": {},
   "outputs": [],
   "source": [
    "# model load\n",
    "model = tf.keras.models.load_model('car_driving_model.h5')\n"
   ]
  },
  {
   "cell_type": "code",
   "execution_count": null,
   "metadata": {},
   "outputs": [],
   "source": []
  }
 ],
 "metadata": {
  "kernelspec": {
   "display_name": "SelfDriving",
   "language": "python",
   "name": "python3"
  },
  "language_info": {
   "codemirror_mode": {
    "name": "ipython",
    "version": 3
   },
   "file_extension": ".py",
   "mimetype": "text/x-python",
   "name": "python",
   "nbconvert_exporter": "python",
   "pygments_lexer": "ipython3",
   "version": "3.10.14"
  }
 },
 "nbformat": 4,
 "nbformat_minor": 2
}
