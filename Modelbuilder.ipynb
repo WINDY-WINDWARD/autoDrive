{
 "cells": [
  {
   "cell_type": "code",
   "execution_count": 7,
   "metadata": {},
   "outputs": [],
   "source": [
    "import os\n",
    "import pandas as pd\n",
    "import numpy as np\n",
    "import tensorflow as tf\n",
    "from keras.utils import load_img, img_to_array\n",
    "from sklearn.model_selection import train_test_split\n",
    "from sklearn.preprocessing import LabelEncoder\n"
   ]
  },
  {
   "cell_type": "code",
   "execution_count": 8,
   "metadata": {},
   "outputs": [
    {
     "name": "stdout",
     "output_type": "stream",
     "text": [
      "['up' 'left' 'right' 'down' nan]\n",
      "['up' 'left' 'right' 'down' 'no_action']\n"
     ]
    }
   ],
   "source": [
    "# Load the CSV file\n",
    "data = pd.read_csv('merged_less_up.csv')\n",
    "\n",
    "\n",
    "# print unique values for action\n",
    "print(data['action'].unique())\n",
    "\n",
    "# replace nan values with 'no_action'\n",
    "data['action'] = data['action'].fillna('no_action')\n",
    "\n",
    "# print unique values for action\n",
    "print(data['action'].unique())"
   ]
  },
  {
   "cell_type": "code",
   "execution_count": 9,
   "metadata": {},
   "outputs": [],
   "source": [
    "\n",
    "\n",
    "# Perform one-hot encoding on the 'action' column\n",
    "label_encoder = LabelEncoder()\n",
    "one_hot_labels = pd.get_dummies(label_encoder.fit_transform(data['action']))\n",
    "\n"
   ]
  },
  {
   "cell_type": "code",
   "execution_count": 10,
   "metadata": {},
   "outputs": [
    {
     "name": "stdout",
     "output_type": "stream",
     "text": [
      "Epoch 1/11\n",
      "221/221 [==============================] - 25s 90ms/step - loss: 1.5236 - accuracy: 0.3046 - val_loss: 1.4613 - val_accuracy: 0.3790\n",
      "Epoch 2/11\n",
      "221/221 [==============================] - 14s 63ms/step - loss: 1.3048 - accuracy: 0.4535 - val_loss: 1.2546 - val_accuracy: 0.4842\n",
      "Epoch 3/11\n",
      "221/221 [==============================] - 14s 66ms/step - loss: 1.0374 - accuracy: 0.5928 - val_loss: 1.0901 - val_accuracy: 0.5696\n",
      "Epoch 4/11\n",
      "221/221 [==============================] - 13s 58ms/step - loss: 0.8648 - accuracy: 0.6689 - val_loss: 1.0525 - val_accuracy: 0.6029\n",
      "Epoch 5/11\n",
      "221/221 [==============================] - 10s 46ms/step - loss: 0.6909 - accuracy: 0.7446 - val_loss: 1.0368 - val_accuracy: 0.6114\n",
      "Epoch 6/11\n",
      "221/221 [==============================] - 12s 53ms/step - loss: 0.5471 - accuracy: 0.7992 - val_loss: 1.1875 - val_accuracy: 0.6097\n",
      "Epoch 7/11\n",
      "221/221 [==============================] - 10s 46ms/step - loss: 0.3704 - accuracy: 0.8665 - val_loss: 1.2879 - val_accuracy: 0.6222\n",
      "Epoch 8/11\n",
      "221/221 [==============================] - 10s 46ms/step - loss: 0.2394 - accuracy: 0.9153 - val_loss: 1.6585 - val_accuracy: 0.6199\n",
      "Epoch 9/11\n",
      "221/221 [==============================] - 10s 46ms/step - loss: 0.1324 - accuracy: 0.9570 - val_loss: 1.7941 - val_accuracy: 0.6182\n",
      "Epoch 10/11\n",
      "221/221 [==============================] - 10s 45ms/step - loss: 0.0909 - accuracy: 0.9730 - val_loss: 2.3757 - val_accuracy: 0.6063\n",
      "Epoch 11/11\n",
      "221/221 [==============================] - 12s 53ms/step - loss: 0.0771 - accuracy: 0.9726 - val_loss: 2.2232 - val_accuracy: 0.6012\n",
      "56/56 [==============================] - 1s 10ms/step - loss: 2.2232 - accuracy: 0.6012\n",
      "Validation Accuracy: 60.12%\n"
     ]
    }
   ],
   "source": [
    "\n",
    "\n",
    "# Load images and corresponding labels\n",
    "images = []\n",
    "labels = []\n",
    "\n",
    "for idx, row in data.iterrows():\n",
    "    img_path = os.path.join('merged', row['image_name'])\n",
    "    img = load_img(img_path,color_mode=\"grayscale\")  # Resize images to 256x144\n",
    "    img_array = img_to_array(img) / 255.0\n",
    "    images.append(img_array)\n",
    "    labels.append(one_hot_labels.iloc[idx].values)\n",
    "\n",
    "# Convert lists to numpy arrays\n",
    "X = np.array(images)\n",
    "y = np.array(labels)\n",
    "\n",
    "# Split data into training and validation sets\n",
    "X_train, X_val, y_train, y_val = train_test_split(X, y, test_size=0.2, random_state=42)\n",
    "\n",
    "# Build the CNN model\n",
    "model = tf.keras.models.Sequential([\n",
    "    tf.keras.layers.Conv2D(32, (3, 3), activation='relu', input_shape=(144, 256, 1)),\n",
    "    tf.keras.layers.MaxPooling2D((2, 2)),\n",
    "    tf.keras.layers.Conv2D(64, (3, 3), activation='relu'),\n",
    "    tf.keras.layers.MaxPooling2D((2, 2)),\n",
    "    tf.keras.layers.Conv2D(128, (3, 3), activation='relu'),\n",
    "    tf.keras.layers.MaxPooling2D((2, 2)),\n",
    "    tf.keras.layers.Flatten(),\n",
    "    tf.keras.layers.Dense(128, activation='relu'),\n",
    "    tf.keras.layers.Dense(one_hot_labels.shape[1], activation='softmax')\n",
    "])\n",
    "\n",
    "# Compile the model\n",
    "model.compile(optimizer='adam', loss='categorical_crossentropy', metrics=['accuracy'])\n",
    "\n",
    "# Train the model\n",
    "history = model.fit(X_train, y_train, epochs=11, validation_data=(X_val, y_val))\n",
    "\n",
    "# Save the model\n",
    "model.save('car_driving_model.h5')\n",
    "\n",
    "# Evaluate the model\n",
    "val_loss, val_accuracy = model.evaluate(X_val, y_val)\n",
    "print(f'Validation Accuracy: {val_accuracy * 100:.2f}%')\n"
   ]
  },
  {
   "cell_type": "code",
   "execution_count": 12,
   "metadata": {},
   "outputs": [
    {
     "name": "stdout",
     "output_type": "stream",
     "text": [
      "56/56 [==============================] - 1s 11ms/step - loss: 2.2232 - accuracy: 0.6012\n",
      "Validation Accuracy: 60.12%\n",
      "Validation Loss: 2.2232\n"
     ]
    }
   ],
   "source": [
    "# Evaluate the model\n",
    "val_loss, val_accuracy = model.evaluate(X_val, y_val)\n",
    "print(f'Validation Accuracy: {val_accuracy * 100:.2f}%')\n",
    "print(f'Validation Loss: {val_loss:.4f}')"
   ]
  },
  {
   "cell_type": "code",
   "execution_count": 6,
   "metadata": {},
   "outputs": [
    {
     "name": "stdout",
     "output_type": "stream",
     "text": [
      "[nan 'up+right+' 'up+' 'up+left+' 'down+right+' 'right+' 'left+'\n",
      " 'down+left+' 'down+']\n",
      "['no_action' 'up+right+' 'up+' 'up+left+' 'down+right+' 'right+' 'left+'\n",
      " 'down+left+' 'down+']\n"
     ]
    }
   ],
   "source": [
    "# Load the CSV file\n",
    "data = pd.read_csv('2024-05-28_22-47-47.csv')\n",
    "\n",
    "\n",
    "# print unique values for action\n",
    "print(data['action'].unique())\n",
    "\n",
    "# replace nan values with 'no_action'\n",
    "data['action'] = data['action'].fillna('no_action')\n",
    "\n",
    "# print unique values for action\n",
    "print(data['action'].unique())\n",
    "\n",
    "label_encoder = LabelEncoder()\n",
    "one_hot_labels = pd.get_dummies(label_encoder.fit_transform(data['action']))\n",
    "\n",
    "images = []\n",
    "labels = []\n",
    "\n",
    "for idx, row in data.iterrows():\n",
    "    img_path = os.path.join('2024-05-28_22-47-47/_processed', row['image_name'])\n",
    "    img = load_img(img_path, color_mode=\"grayscale\")  # Resize images to 256x144\n",
    "    img_array = img_to_array(img) / 255.0\n",
    "    images.append(img_array)\n",
    "    labels.append(one_hot_labels.iloc[idx].values)\n",
    "\n",
    "# Convert lists to numpy arrays\n",
    "X = np.array(images)\n",
    "y = np.array(labels)"
   ]
  },
  {
   "cell_type": "code",
   "execution_count": 6,
   "metadata": {},
   "outputs": [
    {
     "name": "stdout",
     "output_type": "stream",
     "text": [
      "['down' 'left' 'no_action' 'right' 'up']\n"
     ]
    }
   ],
   "source": [
    "# print the label encoder classes\n",
    "print(label_encoder.classes_)\n",
    "# save the label encoder classes\n",
    "np.save('classes.npy', label_encoder.classes_)\n"
   ]
  },
  {
   "cell_type": "code",
   "execution_count": 8,
   "metadata": {},
   "outputs": [
    {
     "name": "stdout",
     "output_type": "stream",
     "text": [
      "392/392 [==============================] - 3s 8ms/step - loss: 6.4712 - accuracy: 0.5730\n",
      "Validation Accuracy: 57.30%\n",
      "Validation Loss: 6.4712\n"
     ]
    }
   ],
   "source": [
    "val_loss, val_accuracy = model.evaluate(X, y)\n",
    "\n",
    "print(f'Validation Accuracy: {val_accuracy * 100:.2f}%')\n",
    "print(f'Validation Loss: {val_loss:.4f}')\n"
   ]
  },
  {
   "cell_type": "code",
   "execution_count": 9,
   "metadata": {},
   "outputs": [
    {
     "name": "stdout",
     "output_type": "stream",
     "text": [
      "Epoch 1/2\n",
      "784/784 [==============================] - 11s 14ms/step - loss: 1.1769 - accuracy: 0.6262\n",
      "Epoch 2/2\n",
      "784/784 [==============================] - 11s 14ms/step - loss: 0.9649 - accuracy: 0.6532\n"
     ]
    },
    {
     "data": {
      "text/plain": [
       "<keras.callbacks.History at 0x1fc2ff0b2e0>"
      ]
     },
     "execution_count": 9,
     "metadata": {},
     "output_type": "execute_result"
    }
   ],
   "source": [
    "# # Recreate the optimizer\n",
    "# optimizer = tf.keras.optimizers.Adam()\n",
    "\n",
    "# # Compile the model with the new optimizer\n",
    "# model.compile(optimizer=optimizer, loss='categorical_crossentropy', metrics=['accuracy'])\n",
    "\n",
    "# Retrain the model with test data\n",
    "model.fit(X, y, epochs=2, batch_size=16)\n"
   ]
  },
  {
   "cell_type": "code",
   "execution_count": 10,
   "metadata": {},
   "outputs": [
    {
     "name": "stdout",
     "output_type": "stream",
     "text": [
      "392/392 [==============================] - 3s 8ms/step - loss: 0.7854 - accuracy: 0.7188\n",
      "Validation Accuracy: 71.88%\n",
      "Validation Loss: 0.7854\n"
     ]
    }
   ],
   "source": [
    "val_loss, val_accuracy = model.evaluate(X, y)\n",
    "\n",
    "print(f'Validation Accuracy: {val_accuracy * 100:.2f}%')\n",
    "print(f'Validation Loss: {val_loss:.4f}')"
   ]
  },
  {
   "cell_type": "code",
   "execution_count": 7,
   "metadata": {},
   "outputs": [],
   "source": [
    "model.save('car_driving_model.h5')\n"
   ]
  },
  {
   "cell_type": "code",
   "execution_count": 8,
   "metadata": {},
   "outputs": [],
   "source": [
    "# model load\n",
    "model = tf.keras.models.load_model('car_driving_model.h5')\n"
   ]
  },
  {
   "cell_type": "code",
   "execution_count": null,
   "metadata": {},
   "outputs": [],
   "source": []
  }
 ],
 "metadata": {
  "kernelspec": {
   "display_name": "SelfDriving",
   "language": "python",
   "name": "python3"
  },
  "language_info": {
   "codemirror_mode": {
    "name": "ipython",
    "version": 3
   },
   "file_extension": ".py",
   "mimetype": "text/x-python",
   "name": "python",
   "nbconvert_exporter": "python",
   "pygments_lexer": "ipython3",
   "version": "3.10.14"
  }
 },
 "nbformat": 4,
 "nbformat_minor": 2
}
