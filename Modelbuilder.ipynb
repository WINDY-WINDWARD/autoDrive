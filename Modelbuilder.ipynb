{
 "cells": [
  {
   "cell_type": "code",
   "execution_count": 1,
   "metadata": {},
   "outputs": [],
   "source": [
    "import os\n",
    "import pandas as pd\n",
    "import numpy as np\n",
    "import tensorflow as tf\n",
    "from keras.utils import load_img, img_to_array\n",
    "from sklearn.model_selection import train_test_split\n",
    "from sklearn.preprocessing import LabelEncoder\n"
   ]
  },
  {
   "cell_type": "code",
   "execution_count": 2,
   "metadata": {},
   "outputs": [
    {
     "name": "stdout",
     "output_type": "stream",
     "text": [
      "['up+' 'up+right+' 'up+left+' nan 'left+' 'right+' 'down+' 'down+left+']\n",
      "['up+' 'up+right+' 'up+left+' 'no_action' 'left+' 'right+' 'down+'\n",
      " 'down+left+']\n"
     ]
    }
   ],
   "source": [
    "# Load the CSV file\n",
    "data = pd.read_csv('index.csv')\n",
    "\n",
    "\n",
    "# print unique values for action\n",
    "print(data['action'].unique())\n",
    "\n",
    "# replace nan values with 'no_action'\n",
    "data['action'] = data['action'].fillna('no_action')\n",
    "\n",
    "# print unique values for action\n",
    "print(data['action'].unique())"
   ]
  },
  {
   "cell_type": "code",
   "execution_count": 3,
   "metadata": {},
   "outputs": [],
   "source": [
    "\n",
    "\n",
    "# Perform one-hot encoding on the 'action' column\n",
    "label_encoder = LabelEncoder()\n",
    "one_hot_labels = pd.get_dummies(label_encoder.fit_transform(data['action']))\n",
    "\n"
   ]
  },
  {
   "cell_type": "code",
   "execution_count": 4,
   "metadata": {},
   "outputs": [
    {
     "name": "stdout",
     "output_type": "stream",
     "text": [
      "Epoch 1/11\n",
      "269/269 [==============================] - 17s 52ms/step - loss: 0.8144 - accuracy: 0.7389 - val_loss: 0.7545 - val_accuracy: 0.7427\n",
      "Epoch 2/11\n",
      "269/269 [==============================] - 29s 108ms/step - loss: 0.7039 - accuracy: 0.7495 - val_loss: 0.7146 - val_accuracy: 0.7492\n",
      "Epoch 3/11\n",
      "269/269 [==============================] - 30s 110ms/step - loss: 0.6425 - accuracy: 0.7582 - val_loss: 0.7302 - val_accuracy: 0.7385\n",
      "Epoch 4/11\n",
      "269/269 [==============================] - 29s 109ms/step - loss: 0.5867 - accuracy: 0.7772 - val_loss: 0.7246 - val_accuracy: 0.7371\n",
      "Epoch 5/11\n",
      "269/269 [==============================] - 29s 110ms/step - loss: 0.5034 - accuracy: 0.8020 - val_loss: 0.8071 - val_accuracy: 0.7268\n",
      "Epoch 6/11\n",
      "269/269 [==============================] - 30s 110ms/step - loss: 0.4083 - accuracy: 0.8355 - val_loss: 0.8546 - val_accuracy: 0.7184\n",
      "Epoch 7/11\n",
      "269/269 [==============================] - 18s 65ms/step - loss: 0.2777 - accuracy: 0.8929 - val_loss: 1.1161 - val_accuracy: 0.6695\n",
      "Epoch 8/11\n",
      "269/269 [==============================] - 30s 111ms/step - loss: 0.1811 - accuracy: 0.9332 - val_loss: 1.4202 - val_accuracy: 0.6667\n",
      "Epoch 9/11\n",
      "269/269 [==============================] - 30s 111ms/step - loss: 0.0934 - accuracy: 0.9657 - val_loss: 1.8414 - val_accuracy: 0.7100\n",
      "Epoch 10/11\n",
      "269/269 [==============================] - 30s 110ms/step - loss: 0.0483 - accuracy: 0.9822 - val_loss: 2.3105 - val_accuracy: 0.6867\n",
      "Epoch 11/11\n",
      "269/269 [==============================] - 30s 111ms/step - loss: 0.0367 - accuracy: 0.9889 - val_loss: 2.4007 - val_accuracy: 0.6620\n",
      "68/68 [==============================] - 2s 25ms/step - loss: 2.4007 - accuracy: 0.6620\n",
      "Validation Accuracy: 66.20%\n"
     ]
    }
   ],
   "source": [
    "\n",
    "\n",
    "# Load images and corresponding labels\n",
    "images = []\n",
    "labels = []\n",
    "\n",
    "for idx, row in data.iterrows():\n",
    "    img_path = os.path.join('images', row['image_name'])\n",
    "    img = load_img(img_path,color_mode=\"grayscale\")  # Resize images to 256x144\n",
    "    img_array = img_to_array(img) / 255.0\n",
    "    images.append(img_array)\n",
    "    labels.append(one_hot_labels.iloc[idx].values)\n",
    "\n",
    "# Convert lists to numpy arrays\n",
    "X = np.array(images)\n",
    "y = np.array(labels)\n",
    "\n",
    "# Split data into training and validation sets\n",
    "X_train, X_val, y_train, y_val = train_test_split(X, y, test_size=0.2, random_state=42)\n",
    "\n",
    "# Build the CNN model\n",
    "model = tf.keras.models.Sequential([\n",
    "    tf.keras.layers.Conv2D(32, (3, 3), activation='relu', input_shape=(144, 256, 1)),\n",
    "    tf.keras.layers.MaxPooling2D((2, 2)),\n",
    "    tf.keras.layers.Conv2D(64, (3, 3), activation='relu'),\n",
    "    tf.keras.layers.MaxPooling2D((2, 2)),\n",
    "    tf.keras.layers.Conv2D(128, (3, 3), activation='relu'),\n",
    "    tf.keras.layers.MaxPooling2D((2, 2)),\n",
    "    tf.keras.layers.Flatten(),\n",
    "    tf.keras.layers.Dense(128, activation='relu'),\n",
    "    tf.keras.layers.Dense(one_hot_labels.shape[1], activation='softmax')\n",
    "])\n",
    "\n",
    "# Compile the model\n",
    "model.compile(optimizer='adam', loss='categorical_crossentropy', metrics=['accuracy'])\n",
    "\n",
    "# Train the model\n",
    "history = model.fit(X_train, y_train, epochs=11, validation_data=(X_val, y_val))\n",
    "\n",
    "# Save the model\n",
    "model.save('car_driving_model.h5')\n",
    "\n",
    "# Evaluate the model\n",
    "val_loss, val_accuracy = model.evaluate(X_val, y_val)\n",
    "print(f'Validation Accuracy: {val_accuracy * 100:.2f}%')\n"
   ]
  },
  {
   "cell_type": "code",
   "execution_count": 5,
   "metadata": {},
   "outputs": [
    {
     "name": "stdout",
     "output_type": "stream",
     "text": [
      "68/68 [==============================] - 2s 25ms/step - loss: 2.4007 - accuracy: 0.6620\n",
      "Validation Accuracy: 66.20%\n",
      "Validation Loss: 2.4007\n"
     ]
    }
   ],
   "source": [
    "# Evaluate the model\n",
    "val_loss, val_accuracy = model.evaluate(X_val, y_val)\n",
    "print(f'Validation Accuracy: {val_accuracy * 100:.2f}%')\n",
    "print(f'Validation Loss: {val_loss:.4f}')"
   ]
  },
  {
   "cell_type": "code",
   "execution_count": 6,
   "metadata": {},
   "outputs": [
    {
     "name": "stdout",
     "output_type": "stream",
     "text": [
      "[nan 'up+right+' 'up+' 'up+left+' 'down+right+' 'right+' 'left+'\n",
      " 'down+left+' 'down+']\n",
      "['no_action' 'up+right+' 'up+' 'up+left+' 'down+right+' 'right+' 'left+'\n",
      " 'down+left+' 'down+']\n"
     ]
    }
   ],
   "source": [
    "# Load the CSV file\n",
    "data = pd.read_csv('2024-05-28_22-47-47.csv')\n",
    "\n",
    "\n",
    "# print unique values for action\n",
    "print(data['action'].unique())\n",
    "\n",
    "# replace nan values with 'no_action'\n",
    "data['action'] = data['action'].fillna('no_action')\n",
    "\n",
    "# print unique values for action\n",
    "print(data['action'].unique())\n",
    "\n",
    "label_encoder = LabelEncoder()\n",
    "one_hot_labels = pd.get_dummies(label_encoder.fit_transform(data['action']))\n",
    "\n",
    "images = []\n",
    "labels = []\n",
    "\n",
    "for idx, row in data.iterrows():\n",
    "    img_path = os.path.join('2024-05-28_22-47-47/_processed', row['image_name'])\n",
    "    img = load_img(img_path, color_mode=\"grayscale\")  # Resize images to 256x144\n",
    "    img_array = img_to_array(img) / 255.0\n",
    "    images.append(img_array)\n",
    "    labels.append(one_hot_labels.iloc[idx].values)\n",
    "\n",
    "# Convert lists to numpy arrays\n",
    "X = np.array(images)\n",
    "y = np.array(labels)"
   ]
  },
  {
   "cell_type": "code",
   "execution_count": 6,
   "metadata": {},
   "outputs": [
    {
     "name": "stdout",
     "output_type": "stream",
     "text": [
      "['down+' 'down+left+' 'left+' 'no_action' 'right+' 'up+' 'up+left+'\n",
      " 'up+right+']\n"
     ]
    }
   ],
   "source": [
    "# print the label encoder classes\n",
    "print(label_encoder.classes_)\n",
    "# save the label encoder classes\n",
    "np.save('classes.npy', label_encoder.classes_)\n"
   ]
  },
  {
   "cell_type": "code",
   "execution_count": 8,
   "metadata": {},
   "outputs": [
    {
     "name": "stdout",
     "output_type": "stream",
     "text": [
      "392/392 [==============================] - 3s 8ms/step - loss: 6.4712 - accuracy: 0.5730\n",
      "Validation Accuracy: 57.30%\n",
      "Validation Loss: 6.4712\n"
     ]
    }
   ],
   "source": [
    "val_loss, val_accuracy = model.evaluate(X, y)\n",
    "\n",
    "print(f'Validation Accuracy: {val_accuracy * 100:.2f}%')\n",
    "print(f'Validation Loss: {val_loss:.4f}')\n"
   ]
  },
  {
   "cell_type": "code",
   "execution_count": 9,
   "metadata": {},
   "outputs": [
    {
     "name": "stdout",
     "output_type": "stream",
     "text": [
      "Epoch 1/2\n",
      "784/784 [==============================] - 11s 14ms/step - loss: 1.1769 - accuracy: 0.6262\n",
      "Epoch 2/2\n",
      "784/784 [==============================] - 11s 14ms/step - loss: 0.9649 - accuracy: 0.6532\n"
     ]
    },
    {
     "data": {
      "text/plain": [
       "<keras.callbacks.History at 0x1fc2ff0b2e0>"
      ]
     },
     "execution_count": 9,
     "metadata": {},
     "output_type": "execute_result"
    }
   ],
   "source": [
    "# # Recreate the optimizer\n",
    "# optimizer = tf.keras.optimizers.Adam()\n",
    "\n",
    "# # Compile the model with the new optimizer\n",
    "# model.compile(optimizer=optimizer, loss='categorical_crossentropy', metrics=['accuracy'])\n",
    "\n",
    "# Retrain the model with test data\n",
    "model.fit(X, y, epochs=2, batch_size=16)\n"
   ]
  },
  {
   "cell_type": "code",
   "execution_count": 10,
   "metadata": {},
   "outputs": [
    {
     "name": "stdout",
     "output_type": "stream",
     "text": [
      "392/392 [==============================] - 3s 8ms/step - loss: 0.7854 - accuracy: 0.7188\n",
      "Validation Accuracy: 71.88%\n",
      "Validation Loss: 0.7854\n"
     ]
    }
   ],
   "source": [
    "val_loss, val_accuracy = model.evaluate(X, y)\n",
    "\n",
    "print(f'Validation Accuracy: {val_accuracy * 100:.2f}%')\n",
    "print(f'Validation Loss: {val_loss:.4f}')"
   ]
  },
  {
   "cell_type": "code",
   "execution_count": 7,
   "metadata": {},
   "outputs": [
    {
     "ename": "",
     "evalue": "",
     "output_type": "error",
     "traceback": [
      "\u001b[1;31mThe Kernel crashed while executing code in the current cell or a previous cell. \n",
      "\u001b[1;31mPlease review the code in the cell(s) to identify a possible cause of the failure. \n",
      "\u001b[1;31mClick <a href='https://aka.ms/vscodeJupyterKernelCrash'>here</a> for more info. \n",
      "\u001b[1;31mView Jupyter <a href='command:jupyter.viewOutput'>log</a> for further details."
     ]
    }
   ],
   "source": [
    "model.save('car_driving_model.h5')\n"
   ]
  },
  {
   "cell_type": "code",
   "execution_count": 2,
   "metadata": {},
   "outputs": [],
   "source": [
    "# model load\n",
    "model = tf.keras.models.load_model('car_driving_model.h5')\n"
   ]
  },
  {
   "cell_type": "code",
   "execution_count": null,
   "metadata": {},
   "outputs": [],
   "source": []
  }
 ],
 "metadata": {
  "kernelspec": {
   "display_name": "SelfDriving",
   "language": "python",
   "name": "python3"
  },
  "language_info": {
   "codemirror_mode": {
    "name": "ipython",
    "version": 3
   },
   "file_extension": ".py",
   "mimetype": "text/x-python",
   "name": "python",
   "nbconvert_exporter": "python",
   "pygments_lexer": "ipython3",
   "version": "3.10.14"
  }
 },
 "nbformat": 4,
 "nbformat_minor": 2
}
