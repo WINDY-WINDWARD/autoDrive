{
 "cells": [
  {
   "cell_type": "code",
   "execution_count": 1,
   "metadata": {},
   "outputs": [
    {
     "name": "stdout",
     "output_type": "stream",
     "text": [
      "['2024-06-02_00-07-34', '2024-06-02_00-47-51']\n"
     ]
    }
   ],
   "source": [
    "import pandas as pd\n",
    "import os\n",
    "__path__ = \"DataSets\"\n",
    "\n",
    "path_folders = os.listdir(__path__)\n",
    "print(path_folders)"
   ]
  },
  {
   "cell_type": "code",
   "execution_count": 3,
   "metadata": {},
   "outputs": [
    {
     "name": "stdout",
     "output_type": "stream",
     "text": [
      "9101 83623\n"
     ]
    }
   ],
   "source": [
    "files = []\n",
    "for folder in path_folders:\n",
    "    files.append(os.listdir(__path__ + \"/\" + folder))\n",
    "\n",
    "print(len(files[0]), len(files[1]))"
   ]
  },
  {
   "cell_type": "code",
   "execution_count": 5,
   "metadata": {},
   "outputs": [
    {
     "name": "stdout",
     "output_type": "stream",
     "text": [
      "                  image_name last_action action\n",
      "0  0_2024-06-02_00-07-34.png         NaN     up\n",
      "1  1_2024-06-02_00-07-34.png          up     up\n",
      "2  2_2024-06-02_00-07-34.png          up     up\n",
      "3  3_2024-06-02_00-07-34.png          up     up\n",
      "4  4_2024-06-02_00-07-34.png          up     up\n"
     ]
    }
   ],
   "source": [
    "dfset = []\n",
    "for i in path_folders:\n",
    "    df = pd.read_csv(i+\".csv\")\n",
    "    dfset.append(df)\n",
    "\n",
    "print(dfset[0].head())\n"
   ]
  },
  {
   "cell_type": "code",
   "execution_count": null,
   "metadata": {},
   "outputs": [],
   "source": [
    "\n",
    "for i in range(len(dfset)):\n",
    "    # print(dfset[i].head())\n",
    "    print(__path__+\"/\"+path_folders[i])\n",
    "    for j in dfset[i]['image_name']:\n",
    "        # print(__path__+\"/\"+path_folders[i] + \"/\" + j)\n",
    "        # print(j)\n",
    "        # print(__path__+\"/\"+path_folders[i] + \"/\" + j[:-4] + \"_2\" + j[-4:])\n",
    "        try:\n",
    "            os.rename(__path__+\"/\"+path_folders[i] + \"/\" + j, __path__+\"/\"+path_folders[i] + \"/\" + j[:-4] + \"_\"+path_folders[i] + j[-4:])\n",
    "        except Exception as e:\n",
    "            print(\"error \" + __path__+\"/\"+path_folders[i] + \"/\" + j)\n",
    "            print(e)\n",
    "            continue\n",
    "\n"
   ]
  },
  {
   "cell_type": "code",
   "execution_count": null,
   "metadata": {},
   "outputs": [],
   "source": [
    "# rename in df\n",
    "for i in range(len(dfset)):\n",
    "    for j in range(len(dfset[i])):\n",
    "        print( dfset[i].at[j, 'image_name'][:-4] + \"_\"+path_folders[i] + dfset[i].at[j, 'image_name'][-4:])\n",
    "        dfset[i].at[j, 'image_name'] = dfset[i].at[j, 'image_name'][:-4] + \"_\"+path_folders[i] + dfset[i].at[j, 'image_name'][-4:]"
   ]
  },
  {
   "cell_type": "code",
   "execution_count": 6,
   "metadata": {},
   "outputs": [
    {
     "name": "stdout",
     "output_type": "stream",
     "text": [
      "92724\n"
     ]
    }
   ],
   "source": [
    "# merge all dfset\n",
    "dfmerged = pd.concat(dfset, ignore_index=True)\n",
    "\n",
    "print(len(dfmerged))\n"
   ]
  },
  {
   "cell_type": "code",
   "execution_count": 7,
   "metadata": {},
   "outputs": [
    {
     "data": {
      "text/html": [
       "<div>\n",
       "<style scoped>\n",
       "    .dataframe tbody tr th:only-of-type {\n",
       "        vertical-align: middle;\n",
       "    }\n",
       "\n",
       "    .dataframe tbody tr th {\n",
       "        vertical-align: top;\n",
       "    }\n",
       "\n",
       "    .dataframe thead th {\n",
       "        text-align: right;\n",
       "    }\n",
       "</style>\n",
       "<table border=\"1\" class=\"dataframe\">\n",
       "  <thead>\n",
       "    <tr style=\"text-align: right;\">\n",
       "      <th></th>\n",
       "      <th>image_name</th>\n",
       "      <th>last_action</th>\n",
       "      <th>action</th>\n",
       "    </tr>\n",
       "  </thead>\n",
       "  <tbody>\n",
       "    <tr>\n",
       "      <th>92719</th>\n",
       "      <td>83618_2024-06-02_00-47-51.png</td>\n",
       "      <td>up</td>\n",
       "      <td>up</td>\n",
       "    </tr>\n",
       "    <tr>\n",
       "      <th>92720</th>\n",
       "      <td>83619_2024-06-02_00-47-51.png</td>\n",
       "      <td>up</td>\n",
       "      <td>up</td>\n",
       "    </tr>\n",
       "    <tr>\n",
       "      <th>92721</th>\n",
       "      <td>83620_2024-06-02_00-47-51.png</td>\n",
       "      <td>up</td>\n",
       "      <td>up</td>\n",
       "    </tr>\n",
       "    <tr>\n",
       "      <th>92722</th>\n",
       "      <td>83621_2024-06-02_00-47-51.png</td>\n",
       "      <td>up</td>\n",
       "      <td>up</td>\n",
       "    </tr>\n",
       "    <tr>\n",
       "      <th>92723</th>\n",
       "      <td>83622_2024-06-02_00-47-51.png</td>\n",
       "      <td>up</td>\n",
       "      <td>up</td>\n",
       "    </tr>\n",
       "  </tbody>\n",
       "</table>\n",
       "</div>"
      ],
      "text/plain": [
       "                          image_name last_action action\n",
       "92719  83618_2024-06-02_00-47-51.png          up     up\n",
       "92720  83619_2024-06-02_00-47-51.png          up     up\n",
       "92721  83620_2024-06-02_00-47-51.png          up     up\n",
       "92722  83621_2024-06-02_00-47-51.png          up     up\n",
       "92723  83622_2024-06-02_00-47-51.png          up     up"
      ]
     },
     "execution_count": 7,
     "metadata": {},
     "output_type": "execute_result"
    }
   ],
   "source": [
    "dfmerged.tail()"
   ]
  },
  {
   "cell_type": "code",
   "execution_count": 8,
   "metadata": {},
   "outputs": [],
   "source": [
    "dfmerged.to_csv(\"merged_1.csv\", index=False)\n"
   ]
  },
  {
   "cell_type": "code",
   "execution_count": 9,
   "metadata": {},
   "outputs": [],
   "source": [
    "if os.path.exists(\"merged_1\"):\n",
    "    os.remove(\"merged_1\")\n",
    "os.mkdir(\"merged_1\")\n",
    "\n",
    "\n",
    "\n"
   ]
  },
  {
   "cell_type": "code",
   "execution_count": 10,
   "metadata": {},
   "outputs": [
    {
     "name": "stdout",
     "output_type": "stream",
     "text": [
      "137083\n"
     ]
    }
   ],
   "source": [
    "df = pd.read_csv(\"merged_1.csv\")\n",
    "df1 = pd.read_csv(\"merged.csv\")\n",
    "\n",
    "\n",
    "df = pd.concat([df, df1], ignore_index=True)\n",
    "\n",
    "print(len(df))"
   ]
  },
  {
   "cell_type": "code",
   "execution_count": 11,
   "metadata": {},
   "outputs": [],
   "source": [
    "df.to_csv(\"merged.csv\", index=False)"
   ]
  }
 ],
 "metadata": {
  "kernelspec": {
   "display_name": "SelfDriving",
   "language": "python",
   "name": "python3"
  },
  "language_info": {
   "codemirror_mode": {
    "name": "ipython",
    "version": 3
   },
   "file_extension": ".py",
   "mimetype": "text/x-python",
   "name": "python",
   "nbconvert_exporter": "python",
   "pygments_lexer": "ipython3",
   "version": "3.10.14"
  }
 },
 "nbformat": 4,
 "nbformat_minor": 2
}
