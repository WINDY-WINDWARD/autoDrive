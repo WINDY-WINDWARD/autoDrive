{
 "cells": [
  {
   "cell_type": "code",
   "execution_count": 1,
   "metadata": {},
   "outputs": [],
   "source": [
    "import os\n",
    "import pandas as pd\n",
    "import numpy as np\n",
    "import tensorflow as tf\n",
    "from keras.utils import load_img, img_to_array\n",
    "from sklearn.model_selection import train_test_split\n",
    "# building a alexnet model\n",
    "from keras.models import Sequential\n",
    "from keras.layers import Conv2D, MaxPooling2D, Flatten, Dense, Dropout\n",
    "from keras.optimizers import Adam\n",
    "from keras.callbacks import EarlyStopping\n",
    "\n",
    "\n"
   ]
  },
  {
   "cell_type": "code",
   "execution_count": 2,
   "metadata": {},
   "outputs": [
    {
     "name": "stdout",
     "output_type": "stream",
     "text": [
      "['up' 'right' nan 'left' 'down']\n",
      "action\n",
      "up       4851\n",
      "right    4613\n",
      "left     4041\n",
      "down     1701\n",
      "Name: count, dtype: int64\n",
      "                          image_name last_action action\n",
      "20349  11269_2024-06-01_17-34-01.png          up     up\n",
      "20350  11274_2024-06-01_17-34-01.png          up     up\n",
      "20351  11299_2024-06-01_17-34-01.png          up   left\n",
      "20352  11300_2024-06-01_17-34-01.png        left   left\n",
      "20353  11301_2024-06-01_17-34-01.png        left   left\n",
      "20354  11302_2024-06-01_17-34-01.png        left   left\n",
      "20355  11303_2024-06-01_17-34-01.png        left   left\n",
      "20359  11313_2024-06-01_17-34-01.png        left   left\n",
      "20360  11314_2024-06-01_17-34-01.png        left   left\n",
      "20361  11315_2024-06-01_17-34-01.png        left   left\n"
     ]
    }
   ],
   "source": [
    "# Load the CSV file\n",
    "data = pd.read_csv('merged_less_up.csv')\n",
    "\n",
    "\n",
    "# print unique values for action\n",
    "print(data['action'].unique())\n",
    "\n",
    "# replace nan values with 'no_action'\n",
    "# data['action'] = data['action'].fillna('no_action')\n",
    "\n",
    "# drop nan values\n",
    "data.dropna(inplace=True)\n",
    "\n",
    "\n",
    "# print unique values for action\n",
    "# print(data['action'].unique())\n",
    "\n",
    "print(data['action'].value_counts())\n",
    "print(data.tail(10))"
   ]
  },
  {
   "cell_type": "code",
   "execution_count": 3,
   "metadata": {},
   "outputs": [],
   "source": [
    "mapping = {'up': 0, 'left': 1, 'right': 2, 'down': 3}\n",
    "\n",
    "def encode_action(action):\n",
    "    ac = mapping[action]\n",
    "    temp=np.zeros(4)\n",
    "    temp[ac]=1\n",
    "    return temp\n",
    "\n",
    "data[\"encoded_action\"] = data[\"action\"].apply(encode_action)\n"
   ]
  },
  {
   "cell_type": "code",
   "execution_count": 4,
   "metadata": {},
   "outputs": [
    {
     "data": {
      "text/html": [
       "<div>\n",
       "<style scoped>\n",
       "    .dataframe tbody tr th:only-of-type {\n",
       "        vertical-align: middle;\n",
       "    }\n",
       "\n",
       "    .dataframe tbody tr th {\n",
       "        vertical-align: top;\n",
       "    }\n",
       "\n",
       "    .dataframe thead th {\n",
       "        text-align: right;\n",
       "    }\n",
       "</style>\n",
       "<table border=\"1\" class=\"dataframe\">\n",
       "  <thead>\n",
       "    <tr style=\"text-align: right;\">\n",
       "      <th></th>\n",
       "      <th>image_name</th>\n",
       "      <th>last_action</th>\n",
       "      <th>action</th>\n",
       "      <th>encoded_action</th>\n",
       "    </tr>\n",
       "  </thead>\n",
       "  <tbody>\n",
       "    <tr>\n",
       "      <th>20349</th>\n",
       "      <td>11269_2024-06-01_17-34-01.png</td>\n",
       "      <td>up</td>\n",
       "      <td>up</td>\n",
       "      <td>[1.0, 0.0, 0.0, 0.0]</td>\n",
       "    </tr>\n",
       "    <tr>\n",
       "      <th>20350</th>\n",
       "      <td>11274_2024-06-01_17-34-01.png</td>\n",
       "      <td>up</td>\n",
       "      <td>up</td>\n",
       "      <td>[1.0, 0.0, 0.0, 0.0]</td>\n",
       "    </tr>\n",
       "    <tr>\n",
       "      <th>20351</th>\n",
       "      <td>11299_2024-06-01_17-34-01.png</td>\n",
       "      <td>up</td>\n",
       "      <td>left</td>\n",
       "      <td>[0.0, 1.0, 0.0, 0.0]</td>\n",
       "    </tr>\n",
       "    <tr>\n",
       "      <th>20352</th>\n",
       "      <td>11300_2024-06-01_17-34-01.png</td>\n",
       "      <td>left</td>\n",
       "      <td>left</td>\n",
       "      <td>[0.0, 1.0, 0.0, 0.0]</td>\n",
       "    </tr>\n",
       "    <tr>\n",
       "      <th>20353</th>\n",
       "      <td>11301_2024-06-01_17-34-01.png</td>\n",
       "      <td>left</td>\n",
       "      <td>left</td>\n",
       "      <td>[0.0, 1.0, 0.0, 0.0]</td>\n",
       "    </tr>\n",
       "    <tr>\n",
       "      <th>20354</th>\n",
       "      <td>11302_2024-06-01_17-34-01.png</td>\n",
       "      <td>left</td>\n",
       "      <td>left</td>\n",
       "      <td>[0.0, 1.0, 0.0, 0.0]</td>\n",
       "    </tr>\n",
       "    <tr>\n",
       "      <th>20355</th>\n",
       "      <td>11303_2024-06-01_17-34-01.png</td>\n",
       "      <td>left</td>\n",
       "      <td>left</td>\n",
       "      <td>[0.0, 1.0, 0.0, 0.0]</td>\n",
       "    </tr>\n",
       "    <tr>\n",
       "      <th>20359</th>\n",
       "      <td>11313_2024-06-01_17-34-01.png</td>\n",
       "      <td>left</td>\n",
       "      <td>left</td>\n",
       "      <td>[0.0, 1.0, 0.0, 0.0]</td>\n",
       "    </tr>\n",
       "    <tr>\n",
       "      <th>20360</th>\n",
       "      <td>11314_2024-06-01_17-34-01.png</td>\n",
       "      <td>left</td>\n",
       "      <td>left</td>\n",
       "      <td>[0.0, 1.0, 0.0, 0.0]</td>\n",
       "    </tr>\n",
       "    <tr>\n",
       "      <th>20361</th>\n",
       "      <td>11315_2024-06-01_17-34-01.png</td>\n",
       "      <td>left</td>\n",
       "      <td>left</td>\n",
       "      <td>[0.0, 1.0, 0.0, 0.0]</td>\n",
       "    </tr>\n",
       "  </tbody>\n",
       "</table>\n",
       "</div>"
      ],
      "text/plain": [
       "                          image_name last_action action        encoded_action\n",
       "20349  11269_2024-06-01_17-34-01.png          up     up  [1.0, 0.0, 0.0, 0.0]\n",
       "20350  11274_2024-06-01_17-34-01.png          up     up  [1.0, 0.0, 0.0, 0.0]\n",
       "20351  11299_2024-06-01_17-34-01.png          up   left  [0.0, 1.0, 0.0, 0.0]\n",
       "20352  11300_2024-06-01_17-34-01.png        left   left  [0.0, 1.0, 0.0, 0.0]\n",
       "20353  11301_2024-06-01_17-34-01.png        left   left  [0.0, 1.0, 0.0, 0.0]\n",
       "20354  11302_2024-06-01_17-34-01.png        left   left  [0.0, 1.0, 0.0, 0.0]\n",
       "20355  11303_2024-06-01_17-34-01.png        left   left  [0.0, 1.0, 0.0, 0.0]\n",
       "20359  11313_2024-06-01_17-34-01.png        left   left  [0.0, 1.0, 0.0, 0.0]\n",
       "20360  11314_2024-06-01_17-34-01.png        left   left  [0.0, 1.0, 0.0, 0.0]\n",
       "20361  11315_2024-06-01_17-34-01.png        left   left  [0.0, 1.0, 0.0, 0.0]"
      ]
     },
     "execution_count": 4,
     "metadata": {},
     "output_type": "execute_result"
    }
   ],
   "source": [
    "data.tail(10)"
   ]
  },
  {
   "cell_type": "code",
   "execution_count": 5,
   "metadata": {},
   "outputs": [],
   "source": [
    "\n",
    "# Load images and corresponding labels\n",
    "images = []\n",
    "labels = []\n",
    "\n",
    "for idx, row in data.iterrows():\n",
    "    img_path = os.path.join('merged', row['image_name'])\n",
    "    img = load_img(img_path)  # Resize images to 256x144\n",
    "    img_array = img_to_array(img) / 255.0\n",
    "    images.append(img_array)\n",
    "    labels.append(row['encoded_action'])\n",
    "\n",
    "# Convert lists to numpy arrays\n",
    "X = np.array(images)\n",
    "y = np.array(labels)\n",
    "\n",
    "\n",
    "# Split the data into training and validation sets\n",
    "X_train, X_val, y_train, y_val = train_test_split(X, y, test_size=0.2, random_state=42)\n",
    "\n",
    "# Define the alextnet model architecture"
   ]
  },
  {
   "cell_type": "code",
   "execution_count": 6,
   "metadata": {},
   "outputs": [],
   "source": [
    "\n",
    "\n",
    "\n",
    "def alexNet():\n",
    "    inp = tf.keras.layers.Input(shape=(144, 256, 3))\n",
    "    # 1st Convolutional Layer\n",
    "    x = Conv2D(filters=96, input_shape=(144, 256, 3), kernel_size=(11, 11), strides=(4, 4), padding='same',\n",
    "               activation='relu')(inp)\n",
    "    # Max Pooling\n",
    "    x = MaxPooling2D(pool_size=(2, 2), strides=(2, 2), padding='same')(x)\n",
    "\n",
    "    # 2nd Convolutional Layer\n",
    "    x = Conv2D(filters=256, kernel_size=(11, 11), strides=(1, 1), padding='same', activation='relu')(x)\n",
    "    # Max Pooling\n",
    "    x = MaxPooling2D(pool_size=(2, 2), strides=(2, 2), padding='same')(x)\n",
    "\n",
    "    # 3rd Convolutional Layer\n",
    "    x = Conv2D(filters=384, kernel_size=(3, 3), strides=(1, 1), padding='same', activation='relu')(x)\n",
    "\n",
    "    # 4th Convolutional Layer\n",
    "    x = Conv2D(filters=384, kernel_size=(3, 3), strides=(1, 1), padding='same', activation='relu')(x)\n",
    "\n",
    "    # 5th Convolutional Layer\n",
    "    x = Conv2D(filters=256, kernel_size=(3, 3), strides=(1, 1), padding='same', activation='relu')(x)\n",
    "    # Max Pooling\n",
    "    x = MaxPooling2D(pool_size=(2, 2), strides=(2, 2), padding='same')(x)\n",
    "\n",
    "    # Passing it to a Fully Connected layer\n",
    "    x = Flatten()(x)\n",
    "    # 1st Fully Connected Layer\n",
    "    x = Dense(units=4096, activation='relu')(x)\n",
    "    # Add Dropout to prevent overfitting\n",
    "    x = Dropout(0.4)(x)\n",
    "\n",
    "    # 2nd Fully Connected Layer\n",
    "    x = Dense(units=4096, activation='relu')(x)\n",
    "    # Add Dropout\n",
    "    x = Dropout(0.4)(x)\n",
    "\n",
    "    # 3rd Fully Connected Layer\n",
    "    x = Dense(units=1000, activation='relu')(x)\n",
    "    # Add Dropout\n",
    "    x = Dropout(0.4)(x)\n",
    "\n",
    "    # Output Layer\n",
    "    x = Dense(units=4, activation='softmax')(x)\n",
    "\n",
    "    model = tf.keras.models.Model(inputs=inp, outputs=x)\n",
    "    return model\n",
    "\n",
    "\n"
   ]
  },
  {
   "cell_type": "code",
   "execution_count": 7,
   "metadata": {},
   "outputs": [
    {
     "name": "stdout",
     "output_type": "stream",
     "text": [
      "Model: \"model\"\n",
      "_________________________________________________________________\n",
      " Layer (type)                Output Shape              Param #   \n",
      "=================================================================\n",
      " input_1 (InputLayer)        [(None, 144, 256, 3)]     0         \n",
      "                                                                 \n",
      " conv2d (Conv2D)             (None, 36, 64, 96)        34944     \n",
      "                                                                 \n",
      " max_pooling2d (MaxPooling2D  (None, 18, 32, 96)       0         \n",
      " )                                                               \n",
      "                                                                 \n",
      " conv2d_1 (Conv2D)           (None, 18, 32, 256)       2973952   \n",
      "                                                                 \n",
      " max_pooling2d_1 (MaxPooling  (None, 9, 16, 256)       0         \n",
      " 2D)                                                             \n",
      "                                                                 \n",
      " conv2d_2 (Conv2D)           (None, 9, 16, 384)        885120    \n",
      "                                                                 \n",
      " conv2d_3 (Conv2D)           (None, 9, 16, 384)        1327488   \n",
      "                                                                 \n",
      " conv2d_4 (Conv2D)           (None, 9, 16, 256)        884992    \n",
      "                                                                 \n",
      " max_pooling2d_2 (MaxPooling  (None, 5, 8, 256)        0         \n",
      " 2D)                                                             \n",
      "                                                                 \n",
      " flatten (Flatten)           (None, 10240)             0         \n",
      "                                                                 \n",
      " dense (Dense)               (None, 4096)              41947136  \n",
      "                                                                 \n",
      " dropout (Dropout)           (None, 4096)              0         \n",
      "                                                                 \n",
      " dense_1 (Dense)             (None, 4096)              16781312  \n",
      "                                                                 \n",
      " dropout_1 (Dropout)         (None, 4096)              0         \n",
      "                                                                 \n",
      " dense_2 (Dense)             (None, 1000)              4097000   \n",
      "                                                                 \n",
      " dropout_2 (Dropout)         (None, 1000)              0         \n",
      "                                                                 \n",
      " dense_3 (Dense)             (None, 4)                 4004      \n",
      "                                                                 \n",
      "=================================================================\n",
      "Total params: 68,935,948\n",
      "Trainable params: 68,935,948\n",
      "Non-trainable params: 0\n",
      "_________________________________________________________________\n"
     ]
    }
   ],
   "source": [
    "\n",
    "model = alexNet()\n",
    "model.summary()"
   ]
  },
  {
   "cell_type": "code",
   "execution_count": 8,
   "metadata": {},
   "outputs": [],
   "source": [
    "model.compile(optimizer=Adam(learning_rate=0.0001), loss='categorical_crossentropy', metrics=['accuracy'])\n",
    "\n",
    "# Define early stopping callback\n",
    "early_stopping = EarlyStopping(monitor='val_loss', patience=5, restore_best_weights=True)\n",
    "\n"
   ]
  },
  {
   "cell_type": "code",
   "execution_count": 9,
   "metadata": {},
   "outputs": [
    {
     "name": "stdout",
     "output_type": "stream",
     "text": [
      "Epoch 1/5\n",
      "381/381 [==============================] - 31s 58ms/step - loss: 1.3241 - accuracy: 0.3172 - val_loss: 1.2834 - val_accuracy: 0.3971\n",
      "Epoch 2/5\n",
      "381/381 [==============================] - 20s 54ms/step - loss: 1.1713 - accuracy: 0.4832 - val_loss: 1.0640 - val_accuracy: 0.5503\n",
      "Epoch 3/5\n",
      "381/381 [==============================] - 20s 52ms/step - loss: 0.9432 - accuracy: 0.6143 - val_loss: 0.7771 - val_accuracy: 0.6986\n",
      "Epoch 4/5\n",
      "381/381 [==============================] - 20s 53ms/step - loss: 0.6812 - accuracy: 0.7424 - val_loss: 0.6329 - val_accuracy: 0.7571\n",
      "Epoch 5/5\n",
      "381/381 [==============================] - 20s 53ms/step - loss: 0.5420 - accuracy: 0.8034 - val_loss: 0.5340 - val_accuracy: 0.7932\n"
     ]
    },
    {
     "data": {
      "text/plain": [
       "<keras.callbacks.History at 0x1dc67f86530>"
      ]
     },
     "execution_count": 9,
     "metadata": {},
     "output_type": "execute_result"
    }
   ],
   "source": [
    "model.fit(X_train, y_train, batch_size=32, epochs=5, validation_data=(X_val, y_val), callbacks=[early_stopping])"
   ]
  },
  {
   "cell_type": "code",
   "execution_count": 13,
   "metadata": {},
   "outputs": [
    {
     "name": "stdout",
     "output_type": "stream",
     "text": [
      "96/96 [==============================] - 1s 15ms/step - loss: 0.5340 - accuracy: 0.7932\n",
      "Validation accuracy: 0.7932281494140625\n",
      "Validation loss: 0.5339846014976501\n"
     ]
    }
   ],
   "source": [
    "# evaluate the model\n",
    "loss, acc = model.evaluate(X_val, y_val)\n",
    "print(f\"Validation accuracy: {acc}\")\n",
    "print(f\"Validation loss: {loss}\")\n"
   ]
  },
  {
   "cell_type": "code",
   "execution_count": 11,
   "metadata": {},
   "outputs": [],
   "source": [
    "\n",
    "# Save the model\n",
    "model.save('alexnet.h5')"
   ]
  }
 ],
 "metadata": {
  "kernelspec": {
   "display_name": "SelfDriving",
   "language": "python",
   "name": "python3"
  },
  "language_info": {
   "codemirror_mode": {
    "name": "ipython",
    "version": 3
   },
   "file_extension": ".py",
   "mimetype": "text/x-python",
   "name": "python",
   "nbconvert_exporter": "python",
   "pygments_lexer": "ipython3",
   "version": "3.10.14"
  }
 },
 "nbformat": 4,
 "nbformat_minor": 2
}
