{
 "cells": [
  {
   "cell_type": "code",
   "execution_count": 1,
   "metadata": {},
   "outputs": [],
   "source": [
    "import pygetwindow as gw\n",
    "from time import sleep\n",
    "import os\n",
    "import pyautogui\n",
    "from PIL import Image\n",
    "import keyboard\n",
    "from datetime import datetime\n",
    "\n",
    "imagePath = \"images\"\n",
    "imgCount=0\n",
    "# while True:\n",
    "#     # get the active window\n",
    "#     active_window = gw.getActiveWindow()\n",
    "#     print(\"active window: \"+ active_window.title)\n",
    "#     print(\"active window size: \" + str(active_window.size))\n",
    "#     print(\"active window left : \"+ str(active_window.left))\n",
    "#     print(\"active window top : \"+ str(active_window.top))\n",
    "#     sleep(10)"
   ]
  },
  {
   "cell_type": "code",
   "execution_count": 2,
   "metadata": {},
   "outputs": [],
   "source": [
    "def cleanup():\n",
    "    # check if images folder exists\n",
    "    if os.path.exists(imagePath):\n",
    "        # rename the images folder to the current date and time\n",
    "        os.rename(imagePath, datetime.now().strftime('%Y-%m-%d_%H-%M-%S'))\n",
    "    # create a new images folder\n",
    "    os.mkdir(\"images\")\n",
    "    # check if index.csv exists\n",
    "    if os.path.exists(\"index.csv\"):\n",
    "        # rename the index.csv to the current date and time\n",
    "        os.rename(\"index.csv\", datetime.now().strftime('%Y-%m-%d_%H-%M-%S.csv'))\n",
    "    # create a new index.csv\n",
    "    with open(\"index.csv\", \"w\") as f:\n",
    "        f.write(\"image_name,action\\n\")\n"
   ]
  },
  {
   "cell_type": "code",
   "execution_count": 3,
   "metadata": {},
   "outputs": [],
   "source": [
    "def getkeyStroke():\n",
    "    #  if up down left right is pressed\n",
    "    if keyboard.is_pressed('up'):\n",
    "        return \"up\"\n",
    "    elif keyboard.is_pressed('down'):\n",
    "        return \"down\"\n",
    "    elif keyboard.is_pressed('left'):\n",
    "        return \"left\"\n",
    "    elif keyboard.is_pressed('right'):\n",
    "        return \"right\"\n",
    "    else:\n",
    "        return \"None\""
   ]
  },
  {
   "cell_type": "code",
   "execution_count": 4,
   "metadata": {},
   "outputs": [],
   "source": [
    "def data_gatherer(acw):\n",
    "    # get the active window dimensions and position\n",
    "    global imgCount\n",
    "    left, top = acw.topleft\n",
    "    right, bottom = acw.bottomright\n",
    "    # get current keyboard button pressed\n",
    "    key = getkeyStroke()\n",
    "    print(\"key pressed: \"+key)\n",
    "    pyautogui.screenshot(imagePath+\"/\"+str(imgCount)+\".png\", region=(left, top, right-left, bottom-top))\n",
    "    with open(\"index.csv\", \"a\") as f:\n",
    "        f.write(str(imgCount)+\".png,\"+key+\"\\n\")\n",
    "    imgCount+=1\n",
    "\n",
    "\n",
    "    "
   ]
  },
  {
   "cell_type": "code",
   "execution_count": null,
   "metadata": {},
   "outputs": [],
   "source": [
    "# active window: Need for Speed™ Most Wanted\n",
    "\n",
    "# check if the window active is the game\n",
    "# take a screenshot of the game window every second and save the screenshot with incremental number also record the key press and save it in index.csv with the screenshot number\n",
    "# if the game is not active then wait for the game to be active\n",
    "# if F3 is pressed then stop the program, save the index.csv and the screenshots\n",
    "# if F4 is pressed then pause the program and wait for F4 to be pressed again to resume the program\n",
    "pauseFlag = False\n",
    "cleanup()\n",
    "\n",
    "while True:\n",
    "    # get the active window\n",
    "    try:\n",
    "        if keyboard.is_pressed('f3'):\n",
    "            print(\"exiting\")\n",
    "            break\n",
    "        elif keyboard.is_pressed('f2'):\n",
    "            if pauseFlag:\n",
    "                pauseFlag = False\n",
    "                print(\"resuming\")\n",
    "            else:\n",
    "                pauseFlag = True\n",
    "                print(\"pausing\")\n",
    "        if pauseFlag:\n",
    "            sleep(5)\n",
    "            continue\n",
    "        active_window = gw.getActiveWindow()\n",
    "        if active_window.title == \"Need for Speed™ Most Wanted\":\n",
    "            data_gatherer(active_window)\n",
    "        else:\n",
    "            print(\"waiting for the game to be active\")\n",
    "            sleep(2)\n",
    "            continue\n",
    "\n",
    "    except Exception as e:\n",
    "        print(\"error: \"+str(e))\n",
    "        continue\n",
    "    except KeyboardInterrupt:\n",
    "        print(\"keyboard interrupt\")\n",
    "        break"
   ]
  }
 ],
 "metadata": {
  "kernelspec": {
   "display_name": "SelfDriving",
   "language": "python",
   "name": "python3"
  },
  "language_info": {
   "codemirror_mode": {
    "name": "ipython",
    "version": 3
   },
   "file_extension": ".py",
   "mimetype": "text/x-python",
   "name": "python",
   "nbconvert_exporter": "python",
   "pygments_lexer": "ipython3",
   "version": "3.10.14"
  }
 },
 "nbformat": 4,
 "nbformat_minor": 2
}
