{
 "cells": [
  {
   "cell_type": "code",
   "execution_count": 1,
   "metadata": {},
   "outputs": [],
   "source": [
    "import pandas as pd\n",
    "import os\n",
    "import shutil\n",
    "\n",
    "df = pd.read_csv('merged.csv')"
   ]
  },
  {
   "cell_type": "code",
   "execution_count": 3,
   "metadata": {},
   "outputs": [
    {
     "data": {
      "text/html": [
       "<div>\n",
       "<style scoped>\n",
       "    .dataframe tbody tr th:only-of-type {\n",
       "        vertical-align: middle;\n",
       "    }\n",
       "\n",
       "    .dataframe tbody tr th {\n",
       "        vertical-align: top;\n",
       "    }\n",
       "\n",
       "    .dataframe thead th {\n",
       "        text-align: right;\n",
       "    }\n",
       "</style>\n",
       "<table border=\"1\" class=\"dataframe\">\n",
       "  <thead>\n",
       "    <tr style=\"text-align: right;\">\n",
       "      <th></th>\n",
       "      <th>image_name</th>\n",
       "      <th>last_action</th>\n",
       "      <th>action</th>\n",
       "    </tr>\n",
       "  </thead>\n",
       "  <tbody>\n",
       "    <tr>\n",
       "      <th>0</th>\n",
       "      <td>0_2024-06-01_01-09-02.png</td>\n",
       "      <td>NaN</td>\n",
       "      <td>up</td>\n",
       "    </tr>\n",
       "    <tr>\n",
       "      <th>1</th>\n",
       "      <td>1_2024-06-01_01-09-02.png</td>\n",
       "      <td>up</td>\n",
       "      <td>up</td>\n",
       "    </tr>\n",
       "    <tr>\n",
       "      <th>2</th>\n",
       "      <td>2_2024-06-01_01-09-02.png</td>\n",
       "      <td>up</td>\n",
       "      <td>up</td>\n",
       "    </tr>\n",
       "    <tr>\n",
       "      <th>3</th>\n",
       "      <td>3_2024-06-01_01-09-02.png</td>\n",
       "      <td>up</td>\n",
       "      <td>up</td>\n",
       "    </tr>\n",
       "    <tr>\n",
       "      <th>4</th>\n",
       "      <td>4_2024-06-01_01-09-02.png</td>\n",
       "      <td>up</td>\n",
       "      <td>up</td>\n",
       "    </tr>\n",
       "  </tbody>\n",
       "</table>\n",
       "</div>"
      ],
      "text/plain": [
       "                  image_name last_action action\n",
       "0  0_2024-06-01_01-09-02.png         NaN     up\n",
       "1  1_2024-06-01_01-09-02.png          up     up\n",
       "2  2_2024-06-01_01-09-02.png          up     up\n",
       "3  3_2024-06-01_01-09-02.png          up     up\n",
       "4  4_2024-06-01_01-09-02.png          up     up"
      ]
     },
     "execution_count": 3,
     "metadata": {},
     "output_type": "execute_result"
    }
   ],
   "source": [
    "df.head()"
   ]
  },
  {
   "cell_type": "code",
   "execution_count": 5,
   "metadata": {},
   "outputs": [
    {
     "name": "stdout",
     "output_type": "stream",
     "text": [
      "44359\n"
     ]
    }
   ],
   "source": [
    "# get all files in images folder\n",
    "files = os.listdir('merged')\n",
    "\n",
    "print(len(files))\n",
    "\n",
    "for file in files:\n",
    "    # check if file is in the index\n",
    "    if file not in list(df['image_name']):\n",
    "        # delete file\n",
    "        os.remove('images/' + file)\n",
    "        print('Deleted ' + file)\n",
    "\n",
    "\n"
   ]
  },
  {
   "cell_type": "code",
   "execution_count": 7,
   "metadata": {},
   "outputs": [],
   "source": [
    "files = os.listdir('merged')\n",
    "# check if image is all black and delete it\n",
    "\n",
    "for file in files:\n",
    "    # check if file is in the index\n",
    "        # check if image is all black\n",
    "    # print(os.path.getsize('images/' + file))\n",
    "    if os.path.getsize('merged/' + file) < 189:\n",
    "        # delete file\n",
    "        # pass\n",
    "        os.remove('merged/' + file)\n",
    "        print('Deleted ' + file)"
   ]
  },
  {
   "cell_type": "code",
   "execution_count": 8,
   "metadata": {},
   "outputs": [
    {
     "name": "stdout",
     "output_type": "stream",
     "text": [
      "removing 17152_2024-06-01_01-09-02.png\n",
      "removing 17153_2024-06-01_01-09-02.png\n",
      "removing 17154_2024-06-01_01-09-02.png\n",
      "removing 17155_2024-06-01_01-09-02.png\n",
      "removing 17156_2024-06-01_01-09-02.png\n",
      "removing 17157_2024-06-01_01-09-02.png\n",
      "removing 17158_2024-06-01_01-09-02.png\n",
      "removing 17159_2024-06-01_01-09-02.png\n",
      "removing 17160_2024-06-01_01-09-02.png\n",
      "removing 17161_2024-06-01_01-09-02.png\n",
      "removing 17162_2024-06-01_01-09-02.png\n",
      "removing 17163_2024-06-01_01-09-02.png\n",
      "removing 17164_2024-06-01_01-09-02.png\n",
      "removing 17165_2024-06-01_01-09-02.png\n",
      "removing 17166_2024-06-01_01-09-02.png\n",
      "removing 17167_2024-06-01_01-09-02.png\n",
      "removing 17168_2024-06-01_01-09-02.png\n",
      "removing 17169_2024-06-01_01-09-02.png\n",
      "removing 17170_2024-06-01_01-09-02.png\n",
      "removing 17171_2024-06-01_01-09-02.png\n",
      "removing 5481_2024-06-01_17-34-01.png\n",
      "removing 6761_2024-06-01_17-34-01.png\n",
      "removing 6762_2024-06-01_17-34-01.png\n",
      "removing 6763_2024-06-01_17-34-01.png\n",
      "removing 6764_2024-06-01_17-34-01.png\n",
      "removing 6765_2024-06-01_17-34-01.png\n",
      "removing 6766_2024-06-01_17-34-01.png\n",
      "removing 6767_2024-06-01_17-34-01.png\n",
      "removing 6768_2024-06-01_17-34-01.png\n",
      "removing 6769_2024-06-01_17-34-01.png\n",
      "removing 6770_2024-06-01_17-34-01.png\n",
      "removing 6771_2024-06-01_17-34-01.png\n",
      "removing 6772_2024-06-01_17-34-01.png\n",
      "removing 6773_2024-06-01_17-34-01.png\n",
      "removing 6774_2024-06-01_17-34-01.png\n",
      "removing 6775_2024-06-01_17-34-01.png\n",
      "removing 6776_2024-06-01_17-34-01.png\n",
      "removing 6809_2024-06-01_17-34-01.png\n",
      "removing 6810_2024-06-01_17-34-01.png\n",
      "removing 6811_2024-06-01_17-34-01.png\n",
      "removing 6812_2024-06-01_17-34-01.png\n",
      "removing 6813_2024-06-01_17-34-01.png\n",
      "removing 6814_2024-06-01_17-34-01.png\n",
      "removing 6815_2024-06-01_17-34-01.png\n",
      "removing 6816_2024-06-01_17-34-01.png\n",
      "removing 6817_2024-06-01_17-34-01.png\n",
      "removing 6818_2024-06-01_17-34-01.png\n",
      "removing 6819_2024-06-01_17-34-01.png\n",
      "removing 6820_2024-06-01_17-34-01.png\n",
      "removing 6821_2024-06-01_17-34-01.png\n",
      "removing 6822_2024-06-01_17-34-01.png\n",
      "removing 6823_2024-06-01_17-34-01.png\n",
      "removing 6824_2024-06-01_17-34-01.png\n",
      "removing 6825_2024-06-01_17-34-01.png\n",
      "removing 6826_2024-06-01_17-34-01.png\n",
      "removing 9281_2024-06-01_17-34-01.png\n",
      "removing 9282_2024-06-01_17-34-01.png\n",
      "removing 9283_2024-06-01_17-34-01.png\n",
      "removing 9284_2024-06-01_17-34-01.png\n",
      "removing 9285_2024-06-01_17-34-01.png\n",
      "removing 9286_2024-06-01_17-34-01.png\n",
      "removing 9287_2024-06-01_17-34-01.png\n",
      "removing 9288_2024-06-01_17-34-01.png\n",
      "removing 11068_2024-06-01_17-34-01.png\n",
      "removing 11069_2024-06-01_17-34-01.png\n",
      "removing 11070_2024-06-01_17-34-01.png\n",
      "removing 11071_2024-06-01_17-34-01.png\n",
      "removing 11072_2024-06-01_17-34-01.png\n",
      "removing 11073_2024-06-01_17-34-01.png\n",
      "removing 11074_2024-06-01_17-34-01.png\n",
      "removing 11075_2024-06-01_17-34-01.png\n",
      "removing 11076_2024-06-01_17-34-01.png\n",
      "removing 11077_2024-06-01_17-34-01.png\n",
      "removing 11078_2024-06-01_17-34-01.png\n",
      "removing 11079_2024-06-01_17-34-01.png\n",
      "removing 11080_2024-06-01_17-34-01.png\n",
      "removing 11081_2024-06-01_17-34-01.png\n",
      "removing 11082_2024-06-01_17-34-01.png\n",
      "removing 11083_2024-06-01_17-34-01.png\n",
      "removing 11084_2024-06-01_17-34-01.png\n",
      "removing 11085_2024-06-01_17-34-01.png\n",
      "removing 11086_2024-06-01_17-34-01.png\n",
      "removing 11087_2024-06-01_17-34-01.png\n",
      "removing 11088_2024-06-01_17-34-01.png\n",
      "removing 11089_2024-06-01_17-34-01.png\n",
      "removing 11090_2024-06-01_17-34-01.png\n",
      "removing 11091_2024-06-01_17-34-01.png\n",
      "removing 11092_2024-06-01_17-34-01.png\n",
      "removing 11093_2024-06-01_17-34-01.png\n",
      "removing 11094_2024-06-01_17-34-01.png\n",
      "removing 11095_2024-06-01_17-34-01.png\n",
      "removing 11096_2024-06-01_17-34-01.png\n",
      "removing 11097_2024-06-01_17-34-01.png\n",
      "removing 11098_2024-06-01_17-34-01.png\n",
      "removing 11099_2024-06-01_17-34-01.png\n",
      "removing 11100_2024-06-01_17-34-01.png\n",
      "removing 11101_2024-06-01_17-34-01.png\n",
      "removing 11102_2024-06-01_17-34-01.png\n"
     ]
    }
   ],
   "source": [
    "# check if image_name exists in the folder images and if not, remove it from the dataframe\n",
    "\n",
    "count=0\n",
    "for index, row in df.iterrows():\n",
    "    if not os.path.exists('merged/' + row['image_name']):\n",
    "        print('removing', row['image_name'])\n",
    "        count+=1\n",
    "        df.drop(index, inplace=True)\n"
   ]
  },
  {
   "cell_type": "code",
   "execution_count": 9,
   "metadata": {},
   "outputs": [
    {
     "name": "stdout",
     "output_type": "stream",
     "text": [
      "98\n"
     ]
    }
   ],
   "source": [
    "print(count)"
   ]
  },
  {
   "cell_type": "code",
   "execution_count": 7,
   "metadata": {},
   "outputs": [],
   "source": [
    "action_map = {\n",
    "    \"left+\": \"left\",\n",
    "    \"right+\": \"right\",\n",
    "    \"up+\": \"up\",\n",
    "    \"down+\": \"down\",\n",
    "    \"up+left+\": \"left\",\n",
    "    \"up+right+\": \"right\",\n",
    "    \"down+left+\": \"left\",\n",
    "    \"down+right+\": \"right\",\n",
    "}\n",
    "\n",
    "df['action'] = df['action'].map(action_map)"
   ]
  },
  {
   "cell_type": "code",
   "execution_count": 10,
   "metadata": {},
   "outputs": [],
   "source": [
    "# save the new dataframe\n",
    "df.to_csv('merged.csv', index=False)"
   ]
  }
 ],
 "metadata": {
  "kernelspec": {
   "display_name": "SelfDriving",
   "language": "python",
   "name": "python3"
  },
  "language_info": {
   "codemirror_mode": {
    "name": "ipython",
    "version": 3
   },
   "file_extension": ".py",
   "mimetype": "text/x-python",
   "name": "python",
   "nbconvert_exporter": "python",
   "pygments_lexer": "ipython3",
   "version": "3.12.3"
  }
 },
 "nbformat": 4,
 "nbformat_minor": 2
}
